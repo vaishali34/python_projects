{
 "cells": [
  {
   "cell_type": "markdown",
   "id": "a886d1f6",
   "metadata": {},
   "source": [
    "# Automatic File Sorter in File Explorer"
   ]
  },
  {
   "cell_type": "code",
   "execution_count": 19,
   "id": "f0b1e852",
   "metadata": {},
   "outputs": [],
   "source": [
    "import os, shutil"
   ]
  },
  {
   "cell_type": "code",
   "execution_count": 20,
   "id": "265e3451",
   "metadata": {},
   "outputs": [],
   "source": [
    "path = r\"C:/Users/param/OneDrive/Pictures/Saved Pictures/\""
   ]
  },
  {
   "cell_type": "code",
   "execution_count": 21,
   "id": "f89fdabe",
   "metadata": {},
   "outputs": [],
   "source": [
    "file_name = os.listdir(path)"
   ]
  },
  {
   "cell_type": "code",
   "execution_count": 22,
   "id": "1ab2abca",
   "metadata": {},
   "outputs": [
    {
     "name": "stdout",
     "output_type": "stream",
     "text": [
      "C:/Users/param/OneDrive/Pictures/Saved Pictures/csv files\n",
      "C:/Users/param/OneDrive/Pictures/Saved Pictures/image files\n",
      "C:/Users/param/OneDrive/Pictures/Saved Pictures/doc files\n"
     ]
    }
   ],
   "source": [
    "folder_names = ['csv files', 'image files', 'doc files']\n",
    "\n",
    "for loop in range(0,3):\n",
    "    if not os.path.exists(path + folder_names[loop]):\n",
    "        print(path + folder_names[loop])\n",
    "        os.makedirs(path + folder_names[loop])\n",
    "        \n",
    "for file in file_name:\n",
    "    if '.csv' in file and not os.path.exists(path +'csv files/'+ file):\n",
    "        shutil.move(path + file, path +'csv files/'+ file)\n",
    "    elif '.png' in file and not os.path.exists(path +'image files/'+ file):\n",
    "        shutil.move(path + file, path +'image files/'+ file)\n",
    "    elif '.png' in file and not os.path.exists(path +'image files/'+ file):\n",
    "        shutil.move(path + file, path +'image files/'+ file)\n",
    "    elif '.docx' in file and not os.path.exists(path +'doc files/'+ file):\n",
    "        shutil.move(path + file, path +'doc files/'+ file)"
   ]
  },
  {
   "cell_type": "code",
   "execution_count": 18,
   "id": "bc3a4835",
   "metadata": {},
   "outputs": [
    {
     "name": "stdout",
     "output_type": "stream",
     "text": [
      "There are files in this path that were not moved\n",
      "There are files in this path that were not moved\n",
      "There are files in this path that were not moved\n"
     ]
    }
   ],
   "source": [
    "\n",
    "    "
   ]
  },
  {
   "cell_type": "code",
   "execution_count": null,
   "id": "16d08854",
   "metadata": {},
   "outputs": [],
   "source": []
  },
  {
   "cell_type": "code",
   "execution_count": null,
   "id": "8d8ce2ba",
   "metadata": {},
   "outputs": [],
   "source": []
  },
  {
   "cell_type": "code",
   "execution_count": null,
   "id": "fdbfef07",
   "metadata": {},
   "outputs": [],
   "source": []
  }
 ],
 "metadata": {
  "kernelspec": {
   "display_name": "Python 3 (ipykernel)",
   "language": "python",
   "name": "python3"
  },
  "language_info": {
   "codemirror_mode": {
    "name": "ipython",
    "version": 3
   },
   "file_extension": ".py",
   "mimetype": "text/x-python",
   "name": "python",
   "nbconvert_exporter": "python",
   "pygments_lexer": "ipython3",
   "version": "3.9.13"
  }
 },
 "nbformat": 4,
 "nbformat_minor": 5
}
