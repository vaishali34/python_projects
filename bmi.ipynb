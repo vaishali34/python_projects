{
 "cells": [
  {
   "cell_type": "code",
   "execution_count": null,
   "id": "6c5385c7",
   "metadata": {},
   "outputs": [],
   "source": []
  },
  {
   "cell_type": "markdown",
   "id": "497ceb8d",
   "metadata": {},
   "source": [
    "# BMI CALCULATOR"
   ]
  },
  {
   "cell_type": "code",
   "execution_count": 15,
   "id": "06978ac6",
   "metadata": {},
   "outputs": [
    {
     "name": "stdout",
     "output_type": "stream",
     "text": [
      "Enter your name: vaishali\n",
      "Enter your weight in kgs: 39\n",
      "Enter your weight in cms: 150\n",
      "17.333333333333332\n",
      "vaishaliUnderweight\n"
     ]
    }
   ],
   "source": [
    "name = input('Enter your name: ')\n",
    "\n",
    "weight = float(input(\"Enter your weight in kgs: \"))\n",
    "\n",
    "height = float(input(\"Enter your weight in cms: \"))\n",
    "\n",
    "BMI = (weight * 10000)/(height * height)\n",
    "\n",
    "print(BMI)\n",
    "\n",
    "if BMI>0:\n",
    "    if(BMI<18.5):\n",
    "        print(name +', Underweight')\n",
    "    elif(BMI<=24.9):\n",
    "        print(name +', Normal Weight')\n",
    "    elif(BMI<=29.9):\n",
    "        print(name +', Overweight')\n",
    "    elif(BMI<=34.9):\n",
    "        print(name +', Obese')\n",
    "    elif(BMI<=39.9):\n",
    "        print(name +', Severely Obese')\n",
    "    else:\n",
    "        print(name +', morbidly obese')\n",
    "else:\n",
    "    print('enter valid input')"
   ]
  },
  {
   "cell_type": "code",
   "execution_count": 4,
   "id": "529fa369",
   "metadata": {
    "scrolled": true
   },
   "outputs": [
    {
     "name": "stdout",
     "output_type": "stream",
     "text": [
      "67\n"
     ]
    }
   ],
   "source": []
  },
  {
   "cell_type": "code",
   "execution_count": 11,
   "id": "bfc366c0",
   "metadata": {},
   "outputs": [
    {
     "ename": "SyntaxError",
     "evalue": "invalid syntax (1183830892.py, line 2)",
     "output_type": "error",
     "traceback": [
      "\u001b[1;36m  File \u001b[1;32m\"C:\\Users\\param\\AppData\\Local\\Temp\\ipykernel_22488\\1183830892.py\"\u001b[1;36m, line \u001b[1;32m2\u001b[0m\n\u001b[1;33m    If(BMI<18.5):\u001b[0m\n\u001b[1;37m                 ^\u001b[0m\n\u001b[1;31mSyntaxError\u001b[0m\u001b[1;31m:\u001b[0m invalid syntax\n"
     ]
    }
   ],
   "source": []
  },
  {
   "cell_type": "code",
   "execution_count": null,
   "id": "624b68a6",
   "metadata": {},
   "outputs": [],
   "source": []
  },
  {
   "cell_type": "code",
   "execution_count": null,
   "id": "89da223a",
   "metadata": {},
   "outputs": [],
   "source": []
  },
  {
   "cell_type": "code",
   "execution_count": null,
   "id": "468ed143",
   "metadata": {},
   "outputs": [],
   "source": []
  },
  {
   "cell_type": "code",
   "execution_count": null,
   "id": "d7044c57",
   "metadata": {},
   "outputs": [],
   "source": []
  },
  {
   "cell_type": "code",
   "execution_count": null,
   "id": "e8352d65",
   "metadata": {},
   "outputs": [],
   "source": []
  }
 ],
 "metadata": {
  "kernelspec": {
   "display_name": "Python 3 (ipykernel)",
   "language": "python",
   "name": "python3"
  },
  "language_info": {
   "codemirror_mode": {
    "name": "ipython",
    "version": 3
   },
   "file_extension": ".py",
   "mimetype": "text/x-python",
   "name": "python",
   "nbconvert_exporter": "python",
   "pygments_lexer": "ipython3",
   "version": "3.9.13"
  }
 },
 "nbformat": 4,
 "nbformat_minor": 5
}
